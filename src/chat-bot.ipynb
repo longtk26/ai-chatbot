{
 "cells": [
  {
   "cell_type": "markdown",
   "id": "8f6adeef-63b9-483d-bddd-3f8af334b313",
   "metadata": {},
   "source": [
    "# Chatbot without Tools\n",
    "## Introduction\n",
    "* In this notebook, I will show you how to use OpenAI API to create a chat bot that support input format in text\n",
    "\n",
    "## Technolgies\n",
    "* OpenAI: calling api to OpenAI for getting response\n",
    "* Gradio: support in building user interface for interacting with AI models"
   ]
  },
  {
   "cell_type": "code",
   "execution_count": 1,
   "id": "378c5233-d4e2-4fc0-bcd0-9c2f7c83a6f3",
   "metadata": {},
   "outputs": [
    {
     "name": "stderr",
     "output_type": "stream",
     "text": [
      "/root/backend/research/ai-chatbot/venv/lib/python3.10/site-packages/tqdm/auto.py:21: TqdmWarning: IProgress not found. Please update jupyter and ipywidgets. See https://ipywidgets.readthedocs.io/en/stable/user_install.html\n",
      "  from .autonotebook import tqdm as notebook_tqdm\n"
     ]
    }
   ],
   "source": [
    "from openai import OpenAI\n",
    "import gradio as gr\n",
    "import os\n",
    "import copy\n",
    "import json"
   ]
  },
  {
   "cell_type": "code",
   "execution_count": 2,
   "id": "f42f038b-616f-400d-ab57-025687a24170",
   "metadata": {},
   "outputs": [],
   "source": [
    "from dotenv import load_dotenv\n",
    "load_dotenv()\n",
    "\n",
    "class EnvService():\n",
    "    def get_open_ai_key(self):\n",
    "        open_ai_key = os.getenv(\"OPEN_AI_KEY\")\n",
    "        if not open_ai_key:\n",
    "            print(\"OPEN AI KEY IS NOT SET!!!\")\n",
    "            return \n",
    "        return open_ai_key\n",
    "    def get_weather_api_key(self):\n",
    "        weather_api_key = os.getenv(\"WEATHER_API_KEY\")\n",
    "        if not weather_api_key:\n",
    "            print(\"WEATHER_API_KEY IS NOT SET!!!\")\n",
    "            return \n",
    "        return weather_api_key\n",
    "env_service = EnvService()"
   ]
  },
  {
   "cell_type": "code",
   "execution_count": 3,
   "id": "03e63f4e-7476-4831-b665-b0732de7dcf2",
   "metadata": {},
   "outputs": [],
   "source": [
    "class AIService:\n",
    "    model = \"gpt-4.1\"\n",
    "    def __init__(self):\n",
    "        self.init_client()\n",
    "        \n",
    "    def init_client(self):\n",
    "        self.client = OpenAI(api_key=env_service.get_open_ai_key())\n",
    "\n",
    "    def chat(self, messages):\n",
    "        responses = self.client.chat.completions.create(\n",
    "            model=self.model,\n",
    "            messages=messages,\n",
    "            stream=True\n",
    "        )\n",
    "        return responses"
   ]
  },
  {
   "cell_type": "code",
   "execution_count": 4,
   "id": "14a4ed5a-5148-406c-9f2a-35c17c14c793",
   "metadata": {},
   "outputs": [],
   "source": [
    "class ChatBot:\n",
    "    def __init__(self):\n",
    "        self.ai_service = AIService()\n",
    "    def chat(self, messages, history):\n",
    "        new_messages = copy.deepcopy(history)\n",
    "        new_messages.append({\"role\": \"user\", \"content\": messages})\n",
    "    \n",
    "        responses = self.ai_service.chat(new_messages)\n",
    "    \n",
    "        partial = \"\"\n",
    "        for chunk in responses:\n",
    "            delta = chunk.choices[0].delta\n",
    "            if delta.content is not None:\n",
    "                partial += delta.content\n",
    "                yield [\n",
    "                    {\"role\": \"assistant\", \"content\": partial}\n",
    "                ]\n",
    "\n",
    "    def render_ui(self):\n",
    "        chat_interface = gr.ChatInterface(fn=self.chat, type=\"messages\")\n",
    "        chat_interface.launch()\n",
    "    def run(self):\n",
    "        self.render_ui()"
   ]
  },
  {
   "cell_type": "code",
   "execution_count": 112,
   "id": "95b4b916-2896-435c-9a33-e34f727bb74d",
   "metadata": {},
   "outputs": [
    {
     "name": "stdout",
     "output_type": "stream",
     "text": [
      "* Running on local URL:  http://127.0.0.1:7897\n",
      "* To create a public link, set `share=True` in `launch()`.\n"
     ]
    },
    {
     "data": {
      "text/html": [
       "<div><iframe src=\"http://127.0.0.1:7897/\" width=\"100%\" height=\"500\" allow=\"autoplay; camera; microphone; clipboard-read; clipboard-write;\" frameborder=\"0\" allowfullscreen></iframe></div>"
      ],
      "text/plain": [
       "<IPython.core.display.HTML object>"
      ]
     },
     "metadata": {},
     "output_type": "display_data"
    }
   ],
   "source": [
    "chat_bot = ChatBot()\n",
    "chat_bot.run()"
   ]
  },
  {
   "cell_type": "markdown",
   "id": "e4f41c66-0e7f-4556-9714-be9eb7f5f2db",
   "metadata": {},
   "source": [
    "# Chatbot with Tools\n",
    "\n",
    "## Introduction\n",
    "* Using tools to improve the chat bot that can create image, audio\n",
    "* Using tools to imptove the chat bot can provide current weather at a location"
   ]
  },
  {
   "cell_type": "code",
   "execution_count": 7,
   "id": "d34e8c06",
   "metadata": {},
   "outputs": [],
   "source": [
    "tools = [\n",
    "    {\n",
    "        \"type\": \"function\",\n",
    "        \"function\": {\n",
    "            \"name\": \"get_weather\",\n",
    "            \"description\": \"Get current weather in a given location\",\n",
    "            \"parameters\": {\n",
    "                \"type\": \"object\",\n",
    "                \"properties\": {\n",
    "                    \"location\": {\"type\": \"string\", \"description\": \"Location name, e.g. London\"},\n",
    "                },\n",
    "                \"required\": [\"location\"],\n",
    "            },\n",
    "        },\n",
    "    },\n",
    "    {\n",
    "        \"type\": \"function\",\n",
    "        \"function\": {\n",
    "            \"name\": \"generate_image\",\n",
    "            \"description\": \"Generate an image based on a text prompt\",\n",
    "            \"parameters\": {\n",
    "                \"type\": \"object\",\n",
    "                \"properties\": {\n",
    "                    \"prompt\": {\"type\": \"string\", \"description\": \"What to generate\"},\n",
    "                },\n",
    "                \"required\": [\"prompt\"],\n",
    "            },\n",
    "        },\n",
    "    },\n",
    "]\n"
   ]
  },
  {
   "cell_type": "code",
   "execution_count": 8,
   "id": "c84fb708-140b-4dea-9a97-5354a3a2eb68",
   "metadata": {},
   "outputs": [],
   "source": [
    "import requests\n",
    "\n",
    "class WeatherService:\n",
    "    def __init__(self):\n",
    "        self.api_key = env_service.get_weather_api_key()\n",
    "        self.api_url = \"https://api.openweathermap.org/data/2.5/weather\"\n",
    "\n",
    "    def get_weather(self, location: str) -> str:\n",
    "        params = {\n",
    "            \"q\": location,\n",
    "            \"appid\": self.api_key,\n",
    "            \"units\": \"metric\"  # return °C instead of Kelvin\n",
    "        }\n",
    "        try:\n",
    "            response = requests.get(self.api_url, params=params)\n",
    "            data = response.json()\n",
    "\n",
    "            if response.status_code != 200:\n",
    "                return f\"Error: {data.get('message', 'Unable to fetch weather')}\"\n",
    "\n",
    "            # Parse relevant info\n",
    "            city = data.get(\"name\", location)\n",
    "            country = data.get(\"sys\", {}).get(\"country\", \"\")\n",
    "            weather_main = data[\"weather\"][0][\"main\"]\n",
    "            weather_desc = data[\"weather\"][0][\"description\"]\n",
    "            temp = data[\"main\"][\"temp\"]\n",
    "            feels_like = data[\"main\"][\"feels_like\"]\n",
    "            humidity = data[\"main\"][\"humidity\"]\n",
    "            wind_speed = data[\"wind\"][\"speed\"]\n",
    "\n",
    "            return (\n",
    "                f\"Weather in {city}, {country}:\\n\"\n",
    "                f\"- Condition: {weather_main} ({weather_desc})\\n\"\n",
    "                f\"- Temperature: {temp:.1f}°C (feels like {feels_like:.1f}°C)\\n\"\n",
    "                f\"- Humidity: {humidity}%\\n\"\n",
    "                f\"- Wind speed: {wind_speed} m/s\"\n",
    "            )\n",
    "        except Exception as e:\n",
    "            return f\"Error fetching weather: {e}\"\n"
   ]
  },
  {
   "cell_type": "code",
   "execution_count": null,
   "id": "fa1075ef",
   "metadata": {},
   "outputs": [],
   "source": [
    "import srt\n",
    "from pydub import AudioSegment\n",
    "import librosa\n",
    "\n",
    "class AIServiceWithTools(AIService):\n",
    "    model_tts = 'gpt-4o-mini-tts'\n",
    "    def __init__(self):\n",
    "        super().__init__()\n",
    "        self.tools = tools\n",
    "    def chat_with_tools(self, messages):\n",
    "        responses = self.client.chat.completions.create(\n",
    "            model=self.model,\n",
    "            messages=messages,\n",
    "            tools=self.tools,\n",
    "            stream=True\n",
    "        )\n",
    "        return responses\n",
    "    def generate_image(self):\n",
    "\n",
    "        pass\n",
    "\n",
    "\n",
    "    def generate_audio_from_srt(self, srt_file, output_file=\"final_output.mp3\", voice_gender=\"male\"):\n",
    "        # Parse SRT\n",
    "        with open(srt_file, \"r\", encoding=\"utf-8\") as f:\n",
    "            subtitles = list(srt.parse(f.read()))\n",
    "\n",
    "        final_audio = AudioSegment.silent(duration=0)\n",
    "\n",
    "        for i, sub in enumerate(subtitles):\n",
    "            start_time = int(sub.start.total_seconds() * 1000)  # ms\n",
    "            end_time = int(sub.end.total_seconds() * 1000)      # ms\n",
    "            text = sub.content.strip()\n",
    "\n",
    "            if not text:\n",
    "                continue  # skip empty subtitles\n",
    "\n",
    "            temp_file = f\"temp_segment_{i}.mp3\"\n",
    "\n",
    "            # Estimate speech duration by avg speed (heuristic)\n",
    "            target_duration = end_time - start_time\n",
    "\n",
    "            # We'll first assume default speed=1\n",
    "            speed = 1.0\n",
    "\n",
    "            # Rough estimate: 150 words/min ≈ 2.5 words/sec\n",
    "            words = len(text.split())\n",
    "            estimated_duration = (words / 2.5) * 1000  # ms\n",
    "\n",
    "            if estimated_duration > 0 and estimated_duration > target_duration:\n",
    "                speed = estimated_duration / target_duration\n",
    "                if speed > 4.0:  # API limit\n",
    "                    speed = 4.0\n",
    "\n",
    "            # Generate speech with speed adjustment\n",
    "            with self.client.audio.speech.with_streaming_response.create(\n",
    "                model=self.model_tts,\n",
    "                voice=self._voice_mapper(voice_gender),\n",
    "                input=text,\n",
    "                response_format=\"mp3\",\n",
    "                speed=speed\n",
    "            ) as response:\n",
    "                response.stream_to_file(temp_file)\n",
    "\n",
    "            # Load generated speech\n",
    "            speech = AudioSegment.from_mp3(temp_file)\n",
    "            actual_duration = len(speech)\n",
    "\n",
    "            # If still shorter than target → pad silence\n",
    "            if actual_duration < target_duration:\n",
    "                silence = AudioSegment.silent(duration=target_duration - actual_duration)\n",
    "                speech += silence\n",
    "\n",
    "            # Ensure timeline coverage\n",
    "            if len(final_audio) < end_time:\n",
    "                final_audio += AudioSegment.silent(duration=end_time - len(final_audio))\n",
    "\n",
    "            # Overlay into final track\n",
    "            final_audio = final_audio.overlay(speech, position=start_time)\n",
    "\n",
    "            print(f\"[{sub.start} --> {sub.end}] '{text}' \"\n",
    "                f\"(est={estimated_duration/1000:.2f}s, \"\n",
    "                f\"actual={actual_duration/1000:.2f}s, \"\n",
    "                f\"target={target_duration/1000:.2f}s, speed={speed:.2f})\")\n",
    "\n",
    "        # Export combined audio\n",
    "        final_audio.export(output_file, format=\"mp3\")\n",
    "        print(f\"✅ Final audio saved to {output_file}\")\n",
    "\n",
    "\n",
    "    def _voice_mapper(self, voice_gender = 'male'):\n",
    "        voice_map = {\n",
    "            'female': 'coral',\n",
    "            'male': 'onyx'\n",
    "        }\n",
    "        return voice_map.get(voice_gender, 'coral')"
   ]
  },
  {
   "cell_type": "code",
   "execution_count": 40,
   "id": "6ba9b887",
   "metadata": {},
   "outputs": [
    {
     "name": "stdout",
     "output_type": "stream",
     "text": [
      "[0:00:01 --> 0:00:04] 'Hello, and welcome to our sample movie.' (est=2.80s, actual=2.81s, target=3.00s, speed=1.00)\n",
      "[0:00:05 --> 0:00:10] 'This is a demonstration of the SRT subtitle format,\n",
      "which is widely used for video subtitling.' (est=6.40s, actual=4.94s, target=5.00s, speed=1.28)\n",
      "[0:00:13 --> 0:00:18] 'SRT files contain numbered subtitle sequences\n",
      "with start and end timestamps.' (est=4.40s, actual=5.30s, target=5.00s, speed=1.00)\n",
      "[0:00:19 --> 0:00:26] 'Each subtitle can span multiple lines\n",
      "and includes timing information.' (est=4.00s, actual=3.96s, target=7.00s, speed=1.00)\n",
      "[0:00:27 --> 0:00:33] 'The format is: sequence number,\n",
      "followed by the time range,\n",
      "followed by the subtitle text.' (est=6.00s, actual=5.66s, target=6.00s, speed=1.00)\n",
      "✅ Final audio saved to output_audio/final_output.mp3\n"
     ]
    }
   ],
   "source": [
    "ai_with_tools = AIServiceWithTools()\n",
    "ai_with_tools.generate_audio_from_srt(\"../sample1.srt\", output_file=\"output_audio/final_output.mp3\", voice_gender=\"male\")"
   ]
  },
  {
   "cell_type": "code",
   "execution_count": 120,
   "id": "b44935a5",
   "metadata": {},
   "outputs": [],
   "source": [
    "class ChatBotWithTools(ChatBot):\n",
    "    def __init__(self):\n",
    "        super().__init__()\n",
    "        self.ai_service = AIServiceWithTools()\n",
    "        self.weather_service = WeatherService()\n",
    "\n",
    "    def chat_with_tools(self, messages, history):\n",
    "        new_messages = copy.deepcopy(history)\n",
    "        new_messages.append({\"role\": \"user\", \"content\": messages})\n",
    "    \n",
    "        responses = self.ai_service.chat_with_tools(new_messages)\n",
    "    \n",
    "        partial = \"\"\n",
    "        tool_call_data = {}\n",
    "    \n",
    "        for chunk in responses:\n",
    "            delta = chunk.choices[0].delta\n",
    "    \n",
    "            # Normal text\n",
    "            if delta.content is not None:\n",
    "                partial += delta.content\n",
    "                yield [{\"role\": \"assistant\", \"content\": partial}]\n",
    "    \n",
    "            # Tool calls (streamed)\n",
    "            if delta.tool_calls:\n",
    "                for tool_call in delta.tool_calls:\n",
    "                    idx = tool_call.index\n",
    "                    fn_name = tool_call.function.name\n",
    "                    fn_args_part = tool_call.function.arguments\n",
    "    \n",
    "                    if idx not in tool_call_data:\n",
    "                        tool_call_data[idx] = {\"name\": fn_name, \"args\": \"\"}\n",
    "    \n",
    "                    # Keep appending arguments\n",
    "                    if fn_name:\n",
    "                        tool_call_data[idx][\"name\"] = fn_name\n",
    "                    if fn_args_part:\n",
    "                        tool_call_data[idx][\"args\"] += fn_args_part\n",
    "    \n",
    "        # After streaming is complete → execute tools\n",
    "        for idx, tool in tool_call_data.items():\n",
    "            fn_name = tool[\"name\"]\n",
    "            args_str = tool[\"args\"]\n",
    "    \n",
    "            try:\n",
    "                args = json.loads(args_str)\n",
    "            except Exception as e:\n",
    "                print(\"Failed to parse tool args:\", args_str, e)\n",
    "                args = {}\n",
    "    \n",
    "            if fn_name == \"get_weather\":\n",
    "                tool_result = self.weather_service.get_weather(**args)\n",
    "                yield [{\"role\": \"assistant\", \"content\": tool_result}]\n",
    "            else:\n",
    "                yield [{\"role\": \"assistant\", \"content\": f\"Unknown function call: {fn_name}\"}]\n",
    "\n",
    "\n",
    "\n",
    "    \n",
    "    def render_ui(self):\n",
    "        chat_interface = gr.ChatInterface(fn=self.chat_with_tools, type=\"messages\")\n",
    "        chat_interface.launch()\n",
    "    def run(self):\n",
    "        self.render_ui()\n",
    "\n",
    "            \n"
   ]
  },
  {
   "cell_type": "code",
   "execution_count": 121,
   "id": "a489c8a7",
   "metadata": {},
   "outputs": [
    {
     "name": "stdout",
     "output_type": "stream",
     "text": [
      "* Running on local URL:  http://127.0.0.1:7898\n",
      "* To create a public link, set `share=True` in `launch()`.\n"
     ]
    },
    {
     "data": {
      "text/html": [
       "<div><iframe src=\"http://127.0.0.1:7898/\" width=\"100%\" height=\"500\" allow=\"autoplay; camera; microphone; clipboard-read; clipboard-write;\" frameborder=\"0\" allowfullscreen></iframe></div>"
      ],
      "text/plain": [
       "<IPython.core.display.HTML object>"
      ]
     },
     "metadata": {},
     "output_type": "display_data"
    }
   ],
   "source": [
    "chat_bot_with_tools = ChatBotWithTools()\n",
    "chat_bot_with_tools.run()"
   ]
  },
  {
   "cell_type": "code",
   "execution_count": null,
   "id": "dd8c4136-b987-4062-af2c-70ac7a32f5f1",
   "metadata": {},
   "outputs": [],
   "source": [
    "    "
   ]
  }
 ],
 "metadata": {
  "kernelspec": {
   "display_name": "venv",
   "language": "python",
   "name": "python3"
  },
  "language_info": {
   "codemirror_mode": {
    "name": "ipython",
    "version": 3
   },
   "file_extension": ".py",
   "mimetype": "text/x-python",
   "name": "python",
   "nbconvert_exporter": "python",
   "pygments_lexer": "ipython3",
   "version": "3.10.14"
  }
 },
 "nbformat": 4,
 "nbformat_minor": 5
}
